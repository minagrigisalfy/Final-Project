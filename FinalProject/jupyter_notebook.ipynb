{
 "cells": [
  {
   "cell_type": "code",
   "execution_count": 1,
   "id": "7b2aca62",
   "metadata": {},
   "outputs": [],
   "source": [
    "# !pip install mysql-connector-python\n",
    "\n",
    "import mysql.connector as connector\n",
    "connection=connector.connect(user=\"capstone\",\n",
    "                             password=\"P@ssword\")\n",
    "\n",
    "cursor = connection.cursor()"
   ]
  },
  {
   "cell_type": "code",
   "execution_count": 2,
   "id": "110ce869",
   "metadata": {},
   "outputs": [],
   "source": [
    "# cursor.execute(\"CREATE DATABASE little_lemon_db\")\n",
    "cursor.execute(\"USE littlelemondm\")"
   ]
  },
  {
   "cell_type": "code",
   "execution_count": 3,
   "id": "fdd2a0c3",
   "metadata": {},
   "outputs": [
    {
     "name": "stdout",
     "output_type": "stream",
     "text": [
      "[('bookings',), ('customers',), ('employees',), ('menuitems',), ('menus',), ('orders',), ('ordersview',)]\n"
     ]
    }
   ],
   "source": [
    "show_tables_query = \"SHOW tables\" \n",
    "cursor.execute(show_tables_query)\n",
    "results = cursor.fetchall()\n",
    "\n",
    "print(results)"
   ]
  },
  {
   "cell_type": "code",
   "execution_count": 4,
   "id": "293336d6",
   "metadata": {},
   "outputs": [
    {
     "name": "stdout",
     "output_type": "stream",
     "text": [
      "[]\n"
     ]
    }
   ],
   "source": [
    "q = \"\"\"\n",
    "SELECT customers.FullName, customers.ContactNumber FROM customers\n",
    "INNER JOIN orders ON customers.CustomerID = orders.CustomerID\n",
    "WHERE orders.TotalCost > 60;\n",
    "\"\"\"\n",
    "\n",
    "cursor.execute(q)\n",
    "results = cursor.fetchall()\n",
    "\n",
    "print(results)"
   ]
  },
  {
   "cell_type": "markdown",
   "id": "763493f0",
   "metadata": {},
   "source": [
    "***Note: The tables haven't been populated as there was no proper step in the exercise where they mentioned to insert data hence there are empty results.***"
   ]
  }
 ],
 "metadata": {
  "hide_input": true,
  "kernelspec": {
   "display_name": "Python 3 (ipykernel)",
   "language": "python",
   "name": "python3"
  },
  "language_info": {
   "codemirror_mode": {
    "name": "ipython",
    "version": 3
   },
   "file_extension": ".py",
   "mimetype": "text/x-python",
   "name": "python",
   "nbconvert_exporter": "python",
   "pygments_lexer": "ipython3",
   "version": "3.8.10"
  }
 },
 "nbformat": 4,
 "nbformat_minor": 5
}
